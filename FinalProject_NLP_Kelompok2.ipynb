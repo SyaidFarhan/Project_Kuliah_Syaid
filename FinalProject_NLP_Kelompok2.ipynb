{
  "nbformat": 4,
  "nbformat_minor": 0,
  "metadata": {
    "colab": {
      "provenance": [],
      "include_colab_link": true
    },
    "kernelspec": {
      "name": "python3",
      "display_name": "Python 3"
    },
    "language_info": {
      "name": "python"
    }
  },
  "cells": [
    {
      "cell_type": "markdown",
      "metadata": {
        "id": "view-in-github",
        "colab_type": "text"
      },
      "source": [
        "<a href=\"https://colab.research.google.com/github/SyaidFarhan/Project_Kuliah_Syaid/blob/main/FinalProject_NLP_Kelompok2.ipynb\" target=\"_parent\"><img src=\"https://colab.research.google.com/assets/colab-badge.svg\" alt=\"Open In Colab\"/></a>"
      ]
    },
    {
      "cell_type": "code",
      "execution_count": null,
      "metadata": {
        "colab": {
          "base_uri": "https://localhost:8080/"
        },
        "id": "QGMM8AxFduxm",
        "outputId": "52ae2204-7eda-48e8-d681-166ea72d6521"
      },
      "outputs": [
        {
          "output_type": "stream",
          "name": "stdout",
          "text": [
            "Requirement already satisfied: torch in /usr/local/lib/python3.10/dist-packages (2.5.1+cu121)\n",
            "Requirement already satisfied: scikit-learn in /usr/local/lib/python3.10/dist-packages (1.5.2)\n",
            "Requirement already satisfied: matplotlib in /usr/local/lib/python3.10/dist-packages (3.8.0)\n",
            "Requirement already satisfied: filelock in /usr/local/lib/python3.10/dist-packages (from torch) (3.16.1)\n",
            "Requirement already satisfied: typing-extensions>=4.8.0 in /usr/local/lib/python3.10/dist-packages (from torch) (4.12.2)\n",
            "Requirement already satisfied: networkx in /usr/local/lib/python3.10/dist-packages (from torch) (3.4.2)\n",
            "Requirement already satisfied: jinja2 in /usr/local/lib/python3.10/dist-packages (from torch) (3.1.4)\n",
            "Requirement already satisfied: fsspec in /usr/local/lib/python3.10/dist-packages (from torch) (2024.10.0)\n",
            "Requirement already satisfied: sympy==1.13.1 in /usr/local/lib/python3.10/dist-packages (from torch) (1.13.1)\n",
            "Requirement already satisfied: mpmath<1.4,>=1.1.0 in /usr/local/lib/python3.10/dist-packages (from sympy==1.13.1->torch) (1.3.0)\n",
            "Requirement already satisfied: numpy>=1.19.5 in /usr/local/lib/python3.10/dist-packages (from scikit-learn) (1.26.4)\n",
            "Requirement already satisfied: scipy>=1.6.0 in /usr/local/lib/python3.10/dist-packages (from scikit-learn) (1.13.1)\n",
            "Requirement already satisfied: joblib>=1.2.0 in /usr/local/lib/python3.10/dist-packages (from scikit-learn) (1.4.2)\n",
            "Requirement already satisfied: threadpoolctl>=3.1.0 in /usr/local/lib/python3.10/dist-packages (from scikit-learn) (3.5.0)\n",
            "Requirement already satisfied: contourpy>=1.0.1 in /usr/local/lib/python3.10/dist-packages (from matplotlib) (1.3.1)\n",
            "Requirement already satisfied: cycler>=0.10 in /usr/local/lib/python3.10/dist-packages (from matplotlib) (0.12.1)\n",
            "Requirement already satisfied: fonttools>=4.22.0 in /usr/local/lib/python3.10/dist-packages (from matplotlib) (4.55.0)\n",
            "Requirement already satisfied: kiwisolver>=1.0.1 in /usr/local/lib/python3.10/dist-packages (from matplotlib) (1.4.7)\n",
            "Requirement already satisfied: packaging>=20.0 in /usr/local/lib/python3.10/dist-packages (from matplotlib) (24.2)\n",
            "Requirement already satisfied: pillow>=6.2.0 in /usr/local/lib/python3.10/dist-packages (from matplotlib) (11.0.0)\n",
            "Requirement already satisfied: pyparsing>=2.3.1 in /usr/local/lib/python3.10/dist-packages (from matplotlib) (3.2.0)\n",
            "Requirement already satisfied: python-dateutil>=2.7 in /usr/local/lib/python3.10/dist-packages (from matplotlib) (2.8.2)\n",
            "Requirement already satisfied: six>=1.5 in /usr/local/lib/python3.10/dist-packages (from python-dateutil>=2.7->matplotlib) (1.16.0)\n",
            "Requirement already satisfied: MarkupSafe>=2.0 in /usr/local/lib/python3.10/dist-packages (from jinja2->torch) (3.0.2)\n"
          ]
        }
      ],
      "source": [
        "pip install torch scikit-learn matplotlib"
      ]
    },
    {
      "cell_type": "code",
      "source": [
        "import torch\n",
        "import torch.nn as nn\n",
        "from torch.utils.data import Dataset, DataLoader\n",
        "import re\n",
        "import matplotlib.pyplot as plt\n",
        "from sklearn.metrics import classification_report"
      ],
      "metadata": {
        "id": "fl1CLEJmiUOg"
      },
      "execution_count": null,
      "outputs": []
    },
    {
      "cell_type": "markdown",
      "source": [
        "# Preprocessing Genia Dataset"
      ],
      "metadata": {
        "id": "XFZMv4GnjGoR"
      }
    },
    {
      "cell_type": "code",
      "source": [
        "# Read GENIA Dataset\n",
        "def read_genia_file(filepath):\n",
        "    sentences = []\n",
        "    with open(filepath, 'r') as file:\n",
        "        sentence = []\n",
        "        for line in file:\n",
        "            line = line.strip()\n",
        "            if not line or line.startswith(\"UI/\"):\n",
        "                if sentence:\n",
        "                    sentences.append(sentence)\n",
        "                    sentence = []\n",
        "            elif line.startswith(\"TI/\") or line.startswith(\"AB/\"):\n",
        "                continue\n",
        "            else:\n",
        "                parts = re.split(r'\\s+', line)\n",
        "                for part in parts:\n",
        "                    if '/' in part:\n",
        "                        token, pos = part.rsplit('/', 1)\n",
        "                        sentence.append((token, pos))\n",
        "        if sentence:\n",
        "            sentences.append(sentence)\n",
        "    return sentences\n",
        "\n",
        "#  Convert POS Tags to BILOU Scheme\n",
        "def convert_to_bilou(sentences):\n",
        "    def bilou_from_buffer(buffer):\n",
        "        if len(buffer) == 1:\n",
        "            return [(buffer[0][0], f\"U-{buffer[0][1]}\")]\n",
        "        bilou_tags = []\n",
        "        for i, (word, tag) in enumerate(buffer):\n",
        "            if i == 0:\n",
        "                bilou_tags.append((word, f\"B-{tag}\"))\n",
        "            elif i == len(buffer) - 1:\n",
        "                bilou_tags.append((word, f\"L-{tag}\"))\n",
        "            else:\n",
        "                bilou_tags.append((word, f\"I-{tag}\"))\n",
        "        return bilou_tags\n",
        "\n",
        "    bilou_sentences = []\n",
        "    for sentence in sentences:\n",
        "        bilou_sentence = []\n",
        "        current_tag = None\n",
        "        buffer = []\n",
        "        for word, tag in sentence:\n",
        "            if tag == \"O\":  # Directly append 'O' tags\n",
        "                if buffer:\n",
        "                    bilou_sentence.extend(bilou_from_buffer(buffer))\n",
        "                    buffer = []\n",
        "                bilou_sentence.append((word, \"O\"))  # Mark as Outside entity\n",
        "                current_tag = None  # Reset the current tag\n",
        "            elif tag == current_tag:  # Continuation of the same tag\n",
        "                buffer.append((word, tag))\n",
        "            else:\n",
        "                if buffer:\n",
        "                    bilou_sentence.extend(bilou_from_buffer(buffer))\n",
        "                buffer = [(word, tag)]\n",
        "                current_tag = tag\n",
        "        if buffer:\n",
        "            bilou_sentence.extend(bilou_from_buffer(buffer))\n",
        "        bilou_sentences.append(bilou_sentence)\n",
        "    return bilou_sentences\n",
        "\n",
        "\n",
        "# Build Vocabularies\n",
        "def build_vocab(sentences, additional_sentences=None):\n",
        "    word_to_idx = {\"<UNK>\": 0}  # Add an <UNK> token\n",
        "    tag_to_idx = {\"<UNK_TAG>\": 0}  # Add an <UNK_TAG> for unknown tags\n",
        "    datasets = sentences if additional_sentences is None else sentences + additional_sentences\n",
        "\n",
        "    for sentence in datasets:\n",
        "        for word, tag in sentence:\n",
        "            if word not in word_to_idx:\n",
        "                word_to_idx[word] = len(word_to_idx)\n",
        "            if tag not in tag_to_idx:\n",
        "                tag_to_idx[tag] = len(tag_to_idx)\n",
        "    return word_to_idx, tag_to_idx"
      ],
      "metadata": {
        "id": "07-6H0wKiaGz"
      },
      "execution_count": null,
      "outputs": []
    },
    {
      "cell_type": "markdown",
      "source": [
        "# Bi-LSTM POS Tagging Model"
      ],
      "metadata": {
        "id": "hSlijaP-jWxr"
      }
    },
    {
      "cell_type": "code",
      "source": [
        "# Define PyTorch Dataset\n",
        "class GENIADataset(Dataset):\n",
        "    def __init__(self, sentences, word_to_idx, tag_to_idx):\n",
        "        self.sentences = sentences\n",
        "        self.word_to_idx = word_to_idx\n",
        "        self.tag_to_idx = tag_to_idx\n",
        "\n",
        "    def __len__(self):\n",
        "        return len(self.sentences)\n",
        "\n",
        "    def __getitem__(self, idx):\n",
        "        sentence = self.sentences[idx]\n",
        "        words = [self.word_to_idx.get(word, self.word_to_idx[\"<UNK>\"]) for word, tag in sentence]\n",
        "        tags = [self.tag_to_idx.get(tag, self.tag_to_idx[\"<UNK_TAG>\"]) for word, tag in sentence]\n",
        "        return torch.tensor(words, dtype=torch.long), torch.tensor(tags, dtype=torch.long)\n",
        "\n",
        "# Define  LSTM-Based POS Tagging Model\n",
        "class POSTagger(nn.Module):\n",
        "    def __init__(self, vocab_size, tagset_size, embedding_dim=128, hidden_dim=128):\n",
        "        super(POSTagger, self).__init__()\n",
        "        self.embedding = nn.Embedding(vocab_size, embedding_dim)\n",
        "        self.lstm = nn.LSTM(embedding_dim, hidden_dim, batch_first=True)\n",
        "        self.fc = nn.Linear(hidden_dim, tagset_size)\n",
        "\n",
        "    def forward(self, x):\n",
        "        embeddings = self.embedding(x)\n",
        "        lstm_out, _ = self.lstm(embeddings)\n",
        "        logits = self.fc(lstm_out)\n",
        "        return logits"
      ],
      "metadata": {
        "id": "eXnDfQFoihkE"
      },
      "execution_count": null,
      "outputs": []
    },
    {
      "cell_type": "markdown",
      "source": [
        "# Training & Validation"
      ],
      "metadata": {
        "id": "xHQTRESIjk79"
      }
    },
    {
      "cell_type": "code",
      "source": [
        "# Training and Validation with Metrics\n",
        "def train_model_with_metrics(model, train_loader, test_loader, num_epochs=10):\n",
        "    optimizer = torch.optim.Adam(model.parameters(), lr=0.001)\n",
        "    criterion = nn.CrossEntropyLoss(ignore_index=-1)  # Ignore padding index during loss calculation\n",
        "\n",
        "    train_losses, train_accuracies = [], []\n",
        "    val_losses, val_accuracies = [], []\n",
        "\n",
        "    for epoch in range(num_epochs):\n",
        "        # Training Phase\n",
        "        model.train()\n",
        "        total_loss = 0\n",
        "        total, correct = 0, 0\n",
        "        for sentences in train_loader:\n",
        "            words, tags = zip(*sentences)\n",
        "\n",
        "            # Pad sequences for batching\n",
        "            words = nn.utils.rnn.pad_sequence(words, batch_first=True, padding_value=0)\n",
        "            tags = nn.utils.rnn.pad_sequence(tags, batch_first=True, padding_value=-1)\n",
        "\n",
        "            # Forward pass\n",
        "            outputs = model(words)\n",
        "            outputs = outputs.view(-1, outputs.shape[-1])\n",
        "            tags = tags.view(-1)\n",
        "\n",
        "            # Backward pass\n",
        "            optimizer.zero_grad()\n",
        "            loss = criterion(outputs, tags)\n",
        "            loss.backward()\n",
        "            optimizer.step()\n",
        "\n",
        "            total_loss += loss.item()\n",
        "\n",
        "            # Calculate accuracy\n",
        "            predictions = torch.argmax(outputs, dim=-1)\n",
        "            mask = tags != -1  # Ignore padding\n",
        "            total += mask.sum().item()\n",
        "            correct += (predictions[mask] == tags[mask]).sum().item()\n",
        "\n",
        "        train_loss = total_loss / len(train_loader)\n",
        "        train_accuracy = correct / total\n",
        "        train_losses.append(train_loss)\n",
        "        train_accuracies.append(train_accuracy)\n",
        "\n",
        "        # Validation Phase\n",
        "        model.eval()\n",
        "        val_loss, total, correct = 0, 0, 0\n",
        "        with torch.no_grad():\n",
        "            for sentences in test_loader:\n",
        "                words, tags = zip(*sentences)\n",
        "                words = nn.utils.rnn.pad_sequence(words, batch_first=True, padding_value=0)\n",
        "                tags = nn.utils.rnn.pad_sequence(tags, batch_first=True, padding_value=-1)\n",
        "\n",
        "                outputs = model(words)\n",
        "                outputs = outputs.view(-1, outputs.shape[-1])\n",
        "                tags = tags.view(-1)\n",
        "\n",
        "                val_loss += criterion(outputs, tags).item()\n",
        "\n",
        "                predictions = torch.argmax(outputs, dim=-1)\n",
        "                mask = tags != -1  # Ignore padding\n",
        "                total += mask.sum().item()\n",
        "                correct += (predictions[mask] == tags[mask]).sum().item()\n",
        "\n",
        "        val_loss /= len(test_loader)\n",
        "        val_accuracy = correct / total\n",
        "        val_losses.append(val_loss)\n",
        "        val_accuracies.append(val_accuracy)\n",
        "\n",
        "        # Print metrics\n",
        "        print(\n",
        "            f\"Epoch {epoch + 1}/{num_epochs} | \"\n",
        "            f\"Train Loss: {train_loss:.4f}, Train Acc: {train_accuracy:.4f} | \"\n",
        "            f\"Val Loss: {val_loss:.4f}, Val Acc: {val_accuracy:.4f}\"\n",
        "        )\n",
        "\n",
        "    # Plot metrics\n",
        "    plt.figure(figsize=(12, 5))\n",
        "\n",
        "    # Loss Plot\n",
        "    plt.subplot(1, 2, 1)\n",
        "    plt.plot(range(1, num_epochs + 1), train_losses, label=\"Train Loss\")\n",
        "    plt.plot(range(1, num_epochs + 1), val_losses, label=\"Val Loss\")\n",
        "    plt.xlabel(\"Epoch\")\n",
        "    plt.ylabel(\"Loss\")\n",
        "    plt.title(\"Loss vs. Epochs\")\n",
        "    plt.legend()\n",
        "\n",
        "    # Accuracy Plot\n",
        "    plt.subplot(1, 2, 2)\n",
        "    plt.plot(range(1, num_epochs + 1), train_accuracies, label=\"Train Acc\")\n",
        "    plt.plot(range(1, num_epochs + 1), val_accuracies, label=\"Val Acc\")\n",
        "    plt.xlabel(\"Epoch\")\n",
        "    plt.ylabel(\"Accuracy\")\n",
        "    plt.title(\"Accuracy vs. Epochs\")\n",
        "    plt.legend()\n",
        "\n",
        "    plt.tight_layout()\n",
        "    plt.show()"
      ],
      "metadata": {
        "id": "I0ZJP2wUitir"
      },
      "execution_count": null,
      "outputs": []
    },
    {
      "cell_type": "markdown",
      "source": [
        "# Evaluation"
      ],
      "metadata": {
        "id": "j7hujMUDj0Id"
      }
    },
    {
      "cell_type": "code",
      "source": [
        "#\n",
        "def evaluate_model(model, test_loader):\n",
        "    model.eval()\n",
        "    y_true, y_pred = [], []\n",
        "    with torch.no_grad():\n",
        "        for sentences in test_loader:\n",
        "            words, tags = zip(*sentences)\n",
        "            words = nn.utils.rnn.pad_sequence(words, batch_first=True, padding_value=0)\n",
        "            tags = nn.utils.rnn.pad_sequence(tags, batch_first=True, padding_value=-1)\n",
        "\n",
        "            outputs = model(words)\n",
        "            predictions = torch.argmax(outputs, dim=-1)\n",
        "\n",
        "            for true_tags, pred_tags in zip(tags, predictions):\n",
        "                mask = true_tags != -1  # Ignore padding\n",
        "                y_true.extend(true_tags[mask].tolist())\n",
        "                y_pred.extend(pred_tags[mask].tolist())\n",
        "\n",
        "    # Convert indices back to tags for evaluation\n",
        "    y_true_tags = [idx_to_tag[idx].split('-')[0] for idx in y_true]  # Extract B, I, L, O, U\n",
        "    y_pred_tags = [idx_to_tag[idx].split('-')[0] for idx in y_pred]  # Extract B, I, L, O, U\n",
        "\n",
        "    # Generate classification report\n",
        "    print(\"Classification Report (BILOU):\")\n",
        "    print(classification_report(y_true_tags, y_pred_tags, labels=['B', 'I', 'L', 'O', 'U'], zero_division=0))"
      ],
      "metadata": {
        "id": "R7aVGky9i4QU"
      },
      "execution_count": null,
      "outputs": []
    },
    {
      "cell_type": "markdown",
      "source": [
        "# Main Process"
      ],
      "metadata": {
        "id": "NIYuQZk-j7ji"
      }
    },
    {
      "cell_type": "code",
      "source": [
        "#\n",
        "train_file = '/content/GENIAtrain.pos'\n",
        "test_file = '/content/GENIAtest.pos'\n",
        "\n",
        "train_sentences = read_genia_file(train_file)\n",
        "test_sentences = read_genia_file(test_file)\n",
        "\n",
        "train_sentences = convert_to_bilou(train_sentences)\n",
        "test_sentences = convert_to_bilou(test_sentences)\n",
        "\n",
        "word_to_idx, tag_to_idx = build_vocab(train_sentences, additional_sentences=test_sentences)\n",
        "idx_to_tag = {idx: tag for tag, idx in tag_to_idx.items()}\n",
        "\n",
        "train_dataset = GENIADataset(train_sentences, word_to_idx, tag_to_idx)\n",
        "test_dataset = GENIADataset(test_sentences, word_to_idx, tag_to_idx)\n",
        "\n",
        "train_loader = DataLoader(train_dataset, batch_size=32, shuffle=True, collate_fn=lambda x: x)\n",
        "test_loader = DataLoader(test_dataset, batch_size=32, shuffle=False, collate_fn=lambda x: x)\n",
        "\n",
        "model = POSTagger(len(word_to_idx), len(tag_to_idx))\n",
        "train_model_with_metrics(model, train_loader, test_loader, num_epochs=10)\n",
        "evaluate_model(model, test_loader)\n"
      ],
      "metadata": {
        "colab": {
          "base_uri": "https://localhost:8080/",
          "height": 906
        },
        "id": "gs3td9tVevrz",
        "outputId": "f719b838-c98a-4a31-a295-20f351093d86"
      },
      "execution_count": null,
      "outputs": [
        {
          "output_type": "stream",
          "name": "stdout",
          "text": [
            "Epoch 1/10 | Train Loss: 3.0557, Train Acc: 0.3326 | Val Loss: 2.1345, Val Acc: 0.4568\n",
            "Epoch 2/10 | Train Loss: 1.7408, Train Acc: 0.5466 | Val Loss: 1.4703, Val Acc: 0.6170\n",
            "Epoch 3/10 | Train Loss: 1.2384, Train Acc: 0.6695 | Val Loss: 1.0942, Val Acc: 0.7055\n",
            "Epoch 4/10 | Train Loss: 0.9298, Train Acc: 0.7430 | Val Loss: 0.8576, Val Acc: 0.7610\n",
            "Epoch 5/10 | Train Loss: 0.7331, Train Acc: 0.7898 | Val Loss: 0.7165, Val Acc: 0.7935\n",
            "Epoch 6/10 | Train Loss: 0.6088, Train Acc: 0.8211 | Val Loss: 0.6279, Val Acc: 0.8160\n",
            "Epoch 7/10 | Train Loss: 0.5245, Train Acc: 0.8427 | Val Loss: 0.5687, Val Acc: 0.8305\n",
            "Epoch 8/10 | Train Loss: 0.4639, Train Acc: 0.8576 | Val Loss: 0.5270, Val Acc: 0.8408\n",
            "Epoch 9/10 | Train Loss: 0.4176, Train Acc: 0.8700 | Val Loss: 0.4972, Val Acc: 0.8480\n",
            "Epoch 10/10 | Train Loss: 0.3813, Train Acc: 0.8795 | Val Loss: 0.4743, Val Acc: 0.8568\n"
          ]
        },
        {
          "output_type": "display_data",
          "data": {
            "text/plain": [
              "<Figure size 1200x500 with 2 Axes>"
            ],
            "image/png": "[encoded data removed]"
          },
          "metadata": {}
        },
        {
          "output_type": "stream",
          "name": "stdout",
          "text": [
            "Classification Report (BILOU):\n",
            "              precision    recall  f1-score   support\n",
            "\n",
            "           B       0.64      0.40      0.49      2863\n",
            "           I       0.67      0.36      0.47       797\n",
            "           L       0.74      0.82      0.78      2863\n",
            "           O       0.00      0.00      0.00         0\n",
            "           U       0.94      0.97      0.95     32675\n",
            "\n",
            "    accuracy                           0.91     39198\n",
            "   macro avg       0.60      0.51      0.54     39198\n",
            "weighted avg       0.90      0.91      0.90     39198\n",
            "\n"
          ]
        }
      ]
    }
  ]
}